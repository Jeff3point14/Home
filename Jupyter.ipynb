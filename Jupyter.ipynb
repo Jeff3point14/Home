{
 "cells": [
  {
   "cell_type": "markdown",
   "metadata": {},
   "source": [
    "<img src=\"Jupyter.jpg\" width=\"400\" height=\"400\" align=\"left\"/>"
   ]
  },
  {
   "cell_type": "markdown",
   "metadata": {
    "collapsed": true
   },
   "source": [
    "* Hi, I'm Jeff Levine\n",
    "* This is a Jupyter Notebook!\n",
    "* I love Jupyter Notebooks!!!\n",
    "* I'll be uploading a bunch of mine very soon\n",
    "* For now feel free to take a look at:\n",
    " 1. [The IPython/Jupyter Notebooks Gallery](https://github.com/ipython/ipython/wiki/A-gallery-of-interesting-IPython-Notebooks)\n",
    " 2. [Then: Try Jupyter Notebooks](https://try.jupyter.org)\n",
    " 3. [And Finally: Get Jupyter Notebooks](https://www.continuum.io/downloads)\n",
    "* Please come back soon, I should have mine added before the end of December 2016\n",
    "* Thanks, Jeff"
   ]
  }
 ],
 "metadata": {
  "anaconda-cloud": {},
  "kernelspec": {
   "display_name": "Python 2",
   "language": "python",
   "name": "python2"
  },
  "language_info": {
   "codemirror_mode": {
    "name": "ipython",
    "version": 2
   },
   "file_extension": ".py",
   "mimetype": "text/x-python",
   "name": "python",
   "nbconvert_exporter": "python",
   "pygments_lexer": "ipython2",
   "version": "2.7.12"
  }
 },
 "nbformat": 4,
 "nbformat_minor": 0
}
